{
  "nbformat": 4,
  "nbformat_minor": 0,
  "metadata": {
    "colab": {
      "provenance": []
    },
    "kernelspec": {
      "name": "python3",
      "display_name": "Python 3"
    },
    "language_info": {
      "name": "python"
    }
  },
  "cells": [
    {
      "cell_type": "markdown",
      "source": [
        "# **Introduction:**\n",
        "In the vast expanse of agricultural landscapes worldwide, a plethora of fruits are cultivated, each boasting its own distinct characteristics and varieties. These characteristics, often discerned through external appearance attributes such as color, length, diameter, and shape, serve as fundamental indicators of a fruit's type and quality. However, the manual determination of fruit variety solely based on external features demands specialized expertise, proving to be a time-consuming and labor-intensive endeavor. In response to this challenge, the advent of machine learning offers a promising solution, leveraging algorithms to automate the classification process and alleviate the burden of manual inspection.\n",
        "\n",
        "# **Problem Statement:**\n",
        "The task of identifying the specific type of fruit solely through its external appearance poses a significant challenge due to the nuanced variations across different fruit varieties. This manual classification process demands considerable expertise and consumes substantial time and effort. In the context of date fruits, which encompass a diverse array of types including 'BERHI,' 'DEGLET,' 'DOKOL,' 'IRAQI,' 'ROTANA,' 'SAFAVI,' and 'SOGAY,' the need for efficient and accurate classification methods is paramount. Therefore, the primary problem addressed in this study revolves around automating the classification of date fruit types using machine learning techniques, specifically Artificial Neural Networks (ANNs).\n",
        "\n",
        "# **Project Objective:**\n",
        "The overarching objective of this study is to develop an ANN-based classification model capable of accurately categorizing different types of date fruits based on their external appearance features. By harnessing the power of machine learning, particularly ANNs, we aim to streamline and expedite the fruit classification process, reducing the dependency on manual expertise and minimizing the associated time and effort. Ultimately, the successful implementation of this model will facilitate enhanced efficiency and accuracy in fruit classification, benefiting stakeholders across the agricultural sector and contributing to the optimization of fruit production and distribution processes."
      ],
      "metadata": {
        "id": "UB-dUbWLtDbq"
      }
    },
    {
      "cell_type": "markdown",
      "source": [
        "# **Importing the Libraries**"
      ],
      "metadata": {
        "id": "Pc1H8jPPw21x"
      }
    },
    {
      "cell_type": "code",
      "execution_count": null,
      "metadata": {
        "id": "j8Z_dhEJVg-Q"
      },
      "outputs": [],
      "source": [
        "import numpy as np\n",
        "import pandas as pd\n",
        "import tensorflow as tf\n",
        "from sklearn.metrics import accuracy_score\n",
        "import datetime\n",
        "import platform\n",
        "import warnings\n",
        "warnings.filterwarnings('ignore')"
      ]
    },
    {
      "cell_type": "markdown",
      "source": [
        "## **Reading the Dataset**"
      ],
      "metadata": {
        "id": "CdOapAa4xEOd"
      }
    },
    {
      "cell_type": "code",
      "source": [
        "df=pd.read_excel(\"/content/Date_Fruit_Datasets.xlsx\")\n",
        "df"
      ],
      "metadata": {
        "colab": {
          "base_uri": "https://localhost:8080/",
          "height": 444
        },
        "id": "L5L9tOzQW6jq",
        "outputId": "6005d104-2ed9-4bf4-f39e-bc73e2cda2fa"
      },
      "execution_count": null,
      "outputs": [
        {
          "output_type": "execute_result",
          "data": {
            "text/plain": [
              "       AREA  PERIMETER  MAJOR_AXIS  MINOR_AXIS  ECCENTRICITY   EQDIASQ  \\\n",
              "0    422163  2378.9080    837.8484    645.6693        0.6373  733.1539   \n",
              "1    338136  2085.1440    723.8198    595.2073        0.5690  656.1464   \n",
              "2    526843  2647.3940    940.7379    715.3638        0.6494  819.0222   \n",
              "3    416063  2351.2100    827.9804    645.2988        0.6266  727.8378   \n",
              "4    347562  2160.3540    763.9877    582.8359        0.6465  665.2291   \n",
              "..      ...        ...         ...         ...           ...       ...   \n",
              "893  255403  1925.3650    691.8453    477.1796        0.7241  570.2536   \n",
              "894  365924  2664.8230    855.4633    551.5447        0.7644  682.5752   \n",
              "895  254330  1926.7360    747.4943    435.6219        0.8126  569.0545   \n",
              "896  238955  1906.2679    716.6485    441.8297        0.7873  551.5859   \n",
              "897  343792  2289.2720    823.8438    534.7757        0.7607  661.6113   \n",
              "\n",
              "     SOLIDITY  CONVEX_AREA  EXTENT  ASPECT_RATIO  ...  KurtosisRR  KurtosisRG  \\\n",
              "0      0.9947       424428  0.7831        1.2976  ...      3.2370      2.9574   \n",
              "1      0.9974       339014  0.7795        1.2161  ...      2.6228      2.6350   \n",
              "2      0.9962       528876  0.7657        1.3150  ...      3.7516      3.8611   \n",
              "3      0.9948       418255  0.7759        1.2831  ...      5.0401      8.6136   \n",
              "4      0.9908       350797  0.7569        1.3108  ...      2.7016      2.9761   \n",
              "..        ...          ...     ...           ...  ...         ...         ...   \n",
              "893    0.9785       261028  0.7269        1.4499  ...      2.2423      2.3704   \n",
              "894    0.9466       386566  0.6695        1.5510  ...      3.4109      3.5805   \n",
              "895    0.9925       256255  0.7240        1.7159  ...      2.2759      2.5090   \n",
              "896    0.9604       248795  0.6954        1.6220  ...      2.6769      2.6874   \n",
              "897    0.9781       351472  0.6941        1.5405  ...      2.5138      3.0369   \n",
              "\n",
              "     KurtosisRB    EntropyRR    EntropyRG    EntropyRB  ALLdaub4RR  \\\n",
              "0        4.2287 -59191263232 -50714214400 -39922372608     58.7255   \n",
              "1        3.1704 -34233065472 -37462601728 -31477794816     50.0259   \n",
              "2        4.7192 -93948354560 -74738221056 -60311207936     65.4772   \n",
              "3        8.2618 -32074307584 -32060925952 -29575010304     43.3900   \n",
              "4        4.4146 -39980974080 -35980042240 -25593278464     52.7743   \n",
              "..          ...          ...          ...          ...         ...   \n",
              "893      2.7202 -25296416768 -19168882688 -18473392128     49.0869   \n",
              "894      3.9910 -31605219328 -21945366528 -19277905920     46.8086   \n",
              "895      2.6951 -22242772992 -19594921984 -17592152064     44.1325   \n",
              "896      2.7991 -26048595968 -21299822592 -19809978368     51.2267   \n",
              "897      3.0865 -31983476736 -20482514944 -21219354624     47.3454   \n",
              "\n",
              "     ALLdaub4RG  ALLdaub4RB  Class  \n",
              "0       54.9554     47.8400  BERHI  \n",
              "1       52.8168     47.8315  BERHI  \n",
              "2       59.2860     51.9378  BERHI  \n",
              "3       44.1259     41.1882  BERHI  \n",
              "4       50.9080     42.6666  BERHI  \n",
              "..          ...         ...    ...  \n",
              "893     43.0422     42.4153  SOGAY  \n",
              "894     39.1046     36.5502  SOGAY  \n",
              "895     40.7986     40.9769  SOGAY  \n",
              "896     45.7162     45.6260  SOGAY  \n",
              "897     38.6966     39.6738  SOGAY  \n",
              "\n",
              "[898 rows x 35 columns]"
            ],
            "text/html": [
              "\n",
              "  <div id=\"df-43c31280-7c74-469b-b0ec-167ddce11c84\" class=\"colab-df-container\">\n",
              "    <div>\n",
              "<style scoped>\n",
              "    .dataframe tbody tr th:only-of-type {\n",
              "        vertical-align: middle;\n",
              "    }\n",
              "\n",
              "    .dataframe tbody tr th {\n",
              "        vertical-align: top;\n",
              "    }\n",
              "\n",
              "    .dataframe thead th {\n",
              "        text-align: right;\n",
              "    }\n",
              "</style>\n",
              "<table border=\"1\" class=\"dataframe\">\n",
              "  <thead>\n",
              "    <tr style=\"text-align: right;\">\n",
              "      <th></th>\n",
              "      <th>AREA</th>\n",
              "      <th>PERIMETER</th>\n",
              "      <th>MAJOR_AXIS</th>\n",
              "      <th>MINOR_AXIS</th>\n",
              "      <th>ECCENTRICITY</th>\n",
              "      <th>EQDIASQ</th>\n",
              "      <th>SOLIDITY</th>\n",
              "      <th>CONVEX_AREA</th>\n",
              "      <th>EXTENT</th>\n",
              "      <th>ASPECT_RATIO</th>\n",
              "      <th>...</th>\n",
              "      <th>KurtosisRR</th>\n",
              "      <th>KurtosisRG</th>\n",
              "      <th>KurtosisRB</th>\n",
              "      <th>EntropyRR</th>\n",
              "      <th>EntropyRG</th>\n",
              "      <th>EntropyRB</th>\n",
              "      <th>ALLdaub4RR</th>\n",
              "      <th>ALLdaub4RG</th>\n",
              "      <th>ALLdaub4RB</th>\n",
              "      <th>Class</th>\n",
              "    </tr>\n",
              "  </thead>\n",
              "  <tbody>\n",
              "    <tr>\n",
              "      <th>0</th>\n",
              "      <td>422163</td>\n",
              "      <td>2378.9080</td>\n",
              "      <td>837.8484</td>\n",
              "      <td>645.6693</td>\n",
              "      <td>0.6373</td>\n",
              "      <td>733.1539</td>\n",
              "      <td>0.9947</td>\n",
              "      <td>424428</td>\n",
              "      <td>0.7831</td>\n",
              "      <td>1.2976</td>\n",
              "      <td>...</td>\n",
              "      <td>3.2370</td>\n",
              "      <td>2.9574</td>\n",
              "      <td>4.2287</td>\n",
              "      <td>-59191263232</td>\n",
              "      <td>-50714214400</td>\n",
              "      <td>-39922372608</td>\n",
              "      <td>58.7255</td>\n",
              "      <td>54.9554</td>\n",
              "      <td>47.8400</td>\n",
              "      <td>BERHI</td>\n",
              "    </tr>\n",
              "    <tr>\n",
              "      <th>1</th>\n",
              "      <td>338136</td>\n",
              "      <td>2085.1440</td>\n",
              "      <td>723.8198</td>\n",
              "      <td>595.2073</td>\n",
              "      <td>0.5690</td>\n",
              "      <td>656.1464</td>\n",
              "      <td>0.9974</td>\n",
              "      <td>339014</td>\n",
              "      <td>0.7795</td>\n",
              "      <td>1.2161</td>\n",
              "      <td>...</td>\n",
              "      <td>2.6228</td>\n",
              "      <td>2.6350</td>\n",
              "      <td>3.1704</td>\n",
              "      <td>-34233065472</td>\n",
              "      <td>-37462601728</td>\n",
              "      <td>-31477794816</td>\n",
              "      <td>50.0259</td>\n",
              "      <td>52.8168</td>\n",
              "      <td>47.8315</td>\n",
              "      <td>BERHI</td>\n",
              "    </tr>\n",
              "    <tr>\n",
              "      <th>2</th>\n",
              "      <td>526843</td>\n",
              "      <td>2647.3940</td>\n",
              "      <td>940.7379</td>\n",
              "      <td>715.3638</td>\n",
              "      <td>0.6494</td>\n",
              "      <td>819.0222</td>\n",
              "      <td>0.9962</td>\n",
              "      <td>528876</td>\n",
              "      <td>0.7657</td>\n",
              "      <td>1.3150</td>\n",
              "      <td>...</td>\n",
              "      <td>3.7516</td>\n",
              "      <td>3.8611</td>\n",
              "      <td>4.7192</td>\n",
              "      <td>-93948354560</td>\n",
              "      <td>-74738221056</td>\n",
              "      <td>-60311207936</td>\n",
              "      <td>65.4772</td>\n",
              "      <td>59.2860</td>\n",
              "      <td>51.9378</td>\n",
              "      <td>BERHI</td>\n",
              "    </tr>\n",
              "    <tr>\n",
              "      <th>3</th>\n",
              "      <td>416063</td>\n",
              "      <td>2351.2100</td>\n",
              "      <td>827.9804</td>\n",
              "      <td>645.2988</td>\n",
              "      <td>0.6266</td>\n",
              "      <td>727.8378</td>\n",
              "      <td>0.9948</td>\n",
              "      <td>418255</td>\n",
              "      <td>0.7759</td>\n",
              "      <td>1.2831</td>\n",
              "      <td>...</td>\n",
              "      <td>5.0401</td>\n",
              "      <td>8.6136</td>\n",
              "      <td>8.2618</td>\n",
              "      <td>-32074307584</td>\n",
              "      <td>-32060925952</td>\n",
              "      <td>-29575010304</td>\n",
              "      <td>43.3900</td>\n",
              "      <td>44.1259</td>\n",
              "      <td>41.1882</td>\n",
              "      <td>BERHI</td>\n",
              "    </tr>\n",
              "    <tr>\n",
              "      <th>4</th>\n",
              "      <td>347562</td>\n",
              "      <td>2160.3540</td>\n",
              "      <td>763.9877</td>\n",
              "      <td>582.8359</td>\n",
              "      <td>0.6465</td>\n",
              "      <td>665.2291</td>\n",
              "      <td>0.9908</td>\n",
              "      <td>350797</td>\n",
              "      <td>0.7569</td>\n",
              "      <td>1.3108</td>\n",
              "      <td>...</td>\n",
              "      <td>2.7016</td>\n",
              "      <td>2.9761</td>\n",
              "      <td>4.4146</td>\n",
              "      <td>-39980974080</td>\n",
              "      <td>-35980042240</td>\n",
              "      <td>-25593278464</td>\n",
              "      <td>52.7743</td>\n",
              "      <td>50.9080</td>\n",
              "      <td>42.6666</td>\n",
              "      <td>BERHI</td>\n",
              "    </tr>\n",
              "    <tr>\n",
              "      <th>...</th>\n",
              "      <td>...</td>\n",
              "      <td>...</td>\n",
              "      <td>...</td>\n",
              "      <td>...</td>\n",
              "      <td>...</td>\n",
              "      <td>...</td>\n",
              "      <td>...</td>\n",
              "      <td>...</td>\n",
              "      <td>...</td>\n",
              "      <td>...</td>\n",
              "      <td>...</td>\n",
              "      <td>...</td>\n",
              "      <td>...</td>\n",
              "      <td>...</td>\n",
              "      <td>...</td>\n",
              "      <td>...</td>\n",
              "      <td>...</td>\n",
              "      <td>...</td>\n",
              "      <td>...</td>\n",
              "      <td>...</td>\n",
              "      <td>...</td>\n",
              "    </tr>\n",
              "    <tr>\n",
              "      <th>893</th>\n",
              "      <td>255403</td>\n",
              "      <td>1925.3650</td>\n",
              "      <td>691.8453</td>\n",
              "      <td>477.1796</td>\n",
              "      <td>0.7241</td>\n",
              "      <td>570.2536</td>\n",
              "      <td>0.9785</td>\n",
              "      <td>261028</td>\n",
              "      <td>0.7269</td>\n",
              "      <td>1.4499</td>\n",
              "      <td>...</td>\n",
              "      <td>2.2423</td>\n",
              "      <td>2.3704</td>\n",
              "      <td>2.7202</td>\n",
              "      <td>-25296416768</td>\n",
              "      <td>-19168882688</td>\n",
              "      <td>-18473392128</td>\n",
              "      <td>49.0869</td>\n",
              "      <td>43.0422</td>\n",
              "      <td>42.4153</td>\n",
              "      <td>SOGAY</td>\n",
              "    </tr>\n",
              "    <tr>\n",
              "      <th>894</th>\n",
              "      <td>365924</td>\n",
              "      <td>2664.8230</td>\n",
              "      <td>855.4633</td>\n",
              "      <td>551.5447</td>\n",
              "      <td>0.7644</td>\n",
              "      <td>682.5752</td>\n",
              "      <td>0.9466</td>\n",
              "      <td>386566</td>\n",
              "      <td>0.6695</td>\n",
              "      <td>1.5510</td>\n",
              "      <td>...</td>\n",
              "      <td>3.4109</td>\n",
              "      <td>3.5805</td>\n",
              "      <td>3.9910</td>\n",
              "      <td>-31605219328</td>\n",
              "      <td>-21945366528</td>\n",
              "      <td>-19277905920</td>\n",
              "      <td>46.8086</td>\n",
              "      <td>39.1046</td>\n",
              "      <td>36.5502</td>\n",
              "      <td>SOGAY</td>\n",
              "    </tr>\n",
              "    <tr>\n",
              "      <th>895</th>\n",
              "      <td>254330</td>\n",
              "      <td>1926.7360</td>\n",
              "      <td>747.4943</td>\n",
              "      <td>435.6219</td>\n",
              "      <td>0.8126</td>\n",
              "      <td>569.0545</td>\n",
              "      <td>0.9925</td>\n",
              "      <td>256255</td>\n",
              "      <td>0.7240</td>\n",
              "      <td>1.7159</td>\n",
              "      <td>...</td>\n",
              "      <td>2.2759</td>\n",
              "      <td>2.5090</td>\n",
              "      <td>2.6951</td>\n",
              "      <td>-22242772992</td>\n",
              "      <td>-19594921984</td>\n",
              "      <td>-17592152064</td>\n",
              "      <td>44.1325</td>\n",
              "      <td>40.7986</td>\n",
              "      <td>40.9769</td>\n",
              "      <td>SOGAY</td>\n",
              "    </tr>\n",
              "    <tr>\n",
              "      <th>896</th>\n",
              "      <td>238955</td>\n",
              "      <td>1906.2679</td>\n",
              "      <td>716.6485</td>\n",
              "      <td>441.8297</td>\n",
              "      <td>0.7873</td>\n",
              "      <td>551.5859</td>\n",
              "      <td>0.9604</td>\n",
              "      <td>248795</td>\n",
              "      <td>0.6954</td>\n",
              "      <td>1.6220</td>\n",
              "      <td>...</td>\n",
              "      <td>2.6769</td>\n",
              "      <td>2.6874</td>\n",
              "      <td>2.7991</td>\n",
              "      <td>-26048595968</td>\n",
              "      <td>-21299822592</td>\n",
              "      <td>-19809978368</td>\n",
              "      <td>51.2267</td>\n",
              "      <td>45.7162</td>\n",
              "      <td>45.6260</td>\n",
              "      <td>SOGAY</td>\n",
              "    </tr>\n",
              "    <tr>\n",
              "      <th>897</th>\n",
              "      <td>343792</td>\n",
              "      <td>2289.2720</td>\n",
              "      <td>823.8438</td>\n",
              "      <td>534.7757</td>\n",
              "      <td>0.7607</td>\n",
              "      <td>661.6113</td>\n",
              "      <td>0.9781</td>\n",
              "      <td>351472</td>\n",
              "      <td>0.6941</td>\n",
              "      <td>1.5405</td>\n",
              "      <td>...</td>\n",
              "      <td>2.5138</td>\n",
              "      <td>3.0369</td>\n",
              "      <td>3.0865</td>\n",
              "      <td>-31983476736</td>\n",
              "      <td>-20482514944</td>\n",
              "      <td>-21219354624</td>\n",
              "      <td>47.3454</td>\n",
              "      <td>38.6966</td>\n",
              "      <td>39.6738</td>\n",
              "      <td>SOGAY</td>\n",
              "    </tr>\n",
              "  </tbody>\n",
              "</table>\n",
              "<p>898 rows × 35 columns</p>\n",
              "</div>\n",
              "    <div class=\"colab-df-buttons\">\n",
              "\n",
              "  <div class=\"colab-df-container\">\n",
              "    <button class=\"colab-df-convert\" onclick=\"convertToInteractive('df-43c31280-7c74-469b-b0ec-167ddce11c84')\"\n",
              "            title=\"Convert this dataframe to an interactive table.\"\n",
              "            style=\"display:none;\">\n",
              "\n",
              "  <svg xmlns=\"http://www.w3.org/2000/svg\" height=\"24px\" viewBox=\"0 -960 960 960\">\n",
              "    <path d=\"M120-120v-720h720v720H120Zm60-500h600v-160H180v160Zm220 220h160v-160H400v160Zm0 220h160v-160H400v160ZM180-400h160v-160H180v160Zm440 0h160v-160H620v160ZM180-180h160v-160H180v160Zm440 0h160v-160H620v160Z\"/>\n",
              "  </svg>\n",
              "    </button>\n",
              "\n",
              "  <style>\n",
              "    .colab-df-container {\n",
              "      display:flex;\n",
              "      gap: 12px;\n",
              "    }\n",
              "\n",
              "    .colab-df-convert {\n",
              "      background-color: #E8F0FE;\n",
              "      border: none;\n",
              "      border-radius: 50%;\n",
              "      cursor: pointer;\n",
              "      display: none;\n",
              "      fill: #1967D2;\n",
              "      height: 32px;\n",
              "      padding: 0 0 0 0;\n",
              "      width: 32px;\n",
              "    }\n",
              "\n",
              "    .colab-df-convert:hover {\n",
              "      background-color: #E2EBFA;\n",
              "      box-shadow: 0px 1px 2px rgba(60, 64, 67, 0.3), 0px 1px 3px 1px rgba(60, 64, 67, 0.15);\n",
              "      fill: #174EA6;\n",
              "    }\n",
              "\n",
              "    .colab-df-buttons div {\n",
              "      margin-bottom: 4px;\n",
              "    }\n",
              "\n",
              "    [theme=dark] .colab-df-convert {\n",
              "      background-color: #3B4455;\n",
              "      fill: #D2E3FC;\n",
              "    }\n",
              "\n",
              "    [theme=dark] .colab-df-convert:hover {\n",
              "      background-color: #434B5C;\n",
              "      box-shadow: 0px 1px 3px 1px rgba(0, 0, 0, 0.15);\n",
              "      filter: drop-shadow(0px 1px 2px rgba(0, 0, 0, 0.3));\n",
              "      fill: #FFFFFF;\n",
              "    }\n",
              "  </style>\n",
              "\n",
              "    <script>\n",
              "      const buttonEl =\n",
              "        document.querySelector('#df-43c31280-7c74-469b-b0ec-167ddce11c84 button.colab-df-convert');\n",
              "      buttonEl.style.display =\n",
              "        google.colab.kernel.accessAllowed ? 'block' : 'none';\n",
              "\n",
              "      async function convertToInteractive(key) {\n",
              "        const element = document.querySelector('#df-43c31280-7c74-469b-b0ec-167ddce11c84');\n",
              "        const dataTable =\n",
              "          await google.colab.kernel.invokeFunction('convertToInteractive',\n",
              "                                                    [key], {});\n",
              "        if (!dataTable) return;\n",
              "\n",
              "        const docLinkHtml = 'Like what you see? Visit the ' +\n",
              "          '<a target=\"_blank\" href=https://colab.research.google.com/notebooks/data_table.ipynb>data table notebook</a>'\n",
              "          + ' to learn more about interactive tables.';\n",
              "        element.innerHTML = '';\n",
              "        dataTable['output_type'] = 'display_data';\n",
              "        await google.colab.output.renderOutput(dataTable, element);\n",
              "        const docLink = document.createElement('div');\n",
              "        docLink.innerHTML = docLinkHtml;\n",
              "        element.appendChild(docLink);\n",
              "      }\n",
              "    </script>\n",
              "  </div>\n",
              "\n",
              "\n",
              "<div id=\"df-e415853b-b75d-4027-a2a0-b05e8462b055\">\n",
              "  <button class=\"colab-df-quickchart\" onclick=\"quickchart('df-e415853b-b75d-4027-a2a0-b05e8462b055')\"\n",
              "            title=\"Suggest charts\"\n",
              "            style=\"display:none;\">\n",
              "\n",
              "<svg xmlns=\"http://www.w3.org/2000/svg\" height=\"24px\"viewBox=\"0 0 24 24\"\n",
              "     width=\"24px\">\n",
              "    <g>\n",
              "        <path d=\"M19 3H5c-1.1 0-2 .9-2 2v14c0 1.1.9 2 2 2h14c1.1 0 2-.9 2-2V5c0-1.1-.9-2-2-2zM9 17H7v-7h2v7zm4 0h-2V7h2v10zm4 0h-2v-4h2v4z\"/>\n",
              "    </g>\n",
              "</svg>\n",
              "  </button>\n",
              "\n",
              "<style>\n",
              "  .colab-df-quickchart {\n",
              "      --bg-color: #E8F0FE;\n",
              "      --fill-color: #1967D2;\n",
              "      --hover-bg-color: #E2EBFA;\n",
              "      --hover-fill-color: #174EA6;\n",
              "      --disabled-fill-color: #AAA;\n",
              "      --disabled-bg-color: #DDD;\n",
              "  }\n",
              "\n",
              "  [theme=dark] .colab-df-quickchart {\n",
              "      --bg-color: #3B4455;\n",
              "      --fill-color: #D2E3FC;\n",
              "      --hover-bg-color: #434B5C;\n",
              "      --hover-fill-color: #FFFFFF;\n",
              "      --disabled-bg-color: #3B4455;\n",
              "      --disabled-fill-color: #666;\n",
              "  }\n",
              "\n",
              "  .colab-df-quickchart {\n",
              "    background-color: var(--bg-color);\n",
              "    border: none;\n",
              "    border-radius: 50%;\n",
              "    cursor: pointer;\n",
              "    display: none;\n",
              "    fill: var(--fill-color);\n",
              "    height: 32px;\n",
              "    padding: 0;\n",
              "    width: 32px;\n",
              "  }\n",
              "\n",
              "  .colab-df-quickchart:hover {\n",
              "    background-color: var(--hover-bg-color);\n",
              "    box-shadow: 0 1px 2px rgba(60, 64, 67, 0.3), 0 1px 3px 1px rgba(60, 64, 67, 0.15);\n",
              "    fill: var(--button-hover-fill-color);\n",
              "  }\n",
              "\n",
              "  .colab-df-quickchart-complete:disabled,\n",
              "  .colab-df-quickchart-complete:disabled:hover {\n",
              "    background-color: var(--disabled-bg-color);\n",
              "    fill: var(--disabled-fill-color);\n",
              "    box-shadow: none;\n",
              "  }\n",
              "\n",
              "  .colab-df-spinner {\n",
              "    border: 2px solid var(--fill-color);\n",
              "    border-color: transparent;\n",
              "    border-bottom-color: var(--fill-color);\n",
              "    animation:\n",
              "      spin 1s steps(1) infinite;\n",
              "  }\n",
              "\n",
              "  @keyframes spin {\n",
              "    0% {\n",
              "      border-color: transparent;\n",
              "      border-bottom-color: var(--fill-color);\n",
              "      border-left-color: var(--fill-color);\n",
              "    }\n",
              "    20% {\n",
              "      border-color: transparent;\n",
              "      border-left-color: var(--fill-color);\n",
              "      border-top-color: var(--fill-color);\n",
              "    }\n",
              "    30% {\n",
              "      border-color: transparent;\n",
              "      border-left-color: var(--fill-color);\n",
              "      border-top-color: var(--fill-color);\n",
              "      border-right-color: var(--fill-color);\n",
              "    }\n",
              "    40% {\n",
              "      border-color: transparent;\n",
              "      border-right-color: var(--fill-color);\n",
              "      border-top-color: var(--fill-color);\n",
              "    }\n",
              "    60% {\n",
              "      border-color: transparent;\n",
              "      border-right-color: var(--fill-color);\n",
              "    }\n",
              "    80% {\n",
              "      border-color: transparent;\n",
              "      border-right-color: var(--fill-color);\n",
              "      border-bottom-color: var(--fill-color);\n",
              "    }\n",
              "    90% {\n",
              "      border-color: transparent;\n",
              "      border-bottom-color: var(--fill-color);\n",
              "    }\n",
              "  }\n",
              "</style>\n",
              "\n",
              "  <script>\n",
              "    async function quickchart(key) {\n",
              "      const quickchartButtonEl =\n",
              "        document.querySelector('#' + key + ' button');\n",
              "      quickchartButtonEl.disabled = true;  // To prevent multiple clicks.\n",
              "      quickchartButtonEl.classList.add('colab-df-spinner');\n",
              "      try {\n",
              "        const charts = await google.colab.kernel.invokeFunction(\n",
              "            'suggestCharts', [key], {});\n",
              "      } catch (error) {\n",
              "        console.error('Error during call to suggestCharts:', error);\n",
              "      }\n",
              "      quickchartButtonEl.classList.remove('colab-df-spinner');\n",
              "      quickchartButtonEl.classList.add('colab-df-quickchart-complete');\n",
              "    }\n",
              "    (() => {\n",
              "      let quickchartButtonEl =\n",
              "        document.querySelector('#df-e415853b-b75d-4027-a2a0-b05e8462b055 button');\n",
              "      quickchartButtonEl.style.display =\n",
              "        google.colab.kernel.accessAllowed ? 'block' : 'none';\n",
              "    })();\n",
              "  </script>\n",
              "</div>\n",
              "\n",
              "  <div id=\"id_cbd5927d-0083-4f9b-a1f5-262de777bb51\">\n",
              "    <style>\n",
              "      .colab-df-generate {\n",
              "        background-color: #E8F0FE;\n",
              "        border: none;\n",
              "        border-radius: 50%;\n",
              "        cursor: pointer;\n",
              "        display: none;\n",
              "        fill: #1967D2;\n",
              "        height: 32px;\n",
              "        padding: 0 0 0 0;\n",
              "        width: 32px;\n",
              "      }\n",
              "\n",
              "      .colab-df-generate:hover {\n",
              "        background-color: #E2EBFA;\n",
              "        box-shadow: 0px 1px 2px rgba(60, 64, 67, 0.3), 0px 1px 3px 1px rgba(60, 64, 67, 0.15);\n",
              "        fill: #174EA6;\n",
              "      }\n",
              "\n",
              "      [theme=dark] .colab-df-generate {\n",
              "        background-color: #3B4455;\n",
              "        fill: #D2E3FC;\n",
              "      }\n",
              "\n",
              "      [theme=dark] .colab-df-generate:hover {\n",
              "        background-color: #434B5C;\n",
              "        box-shadow: 0px 1px 3px 1px rgba(0, 0, 0, 0.15);\n",
              "        filter: drop-shadow(0px 1px 2px rgba(0, 0, 0, 0.3));\n",
              "        fill: #FFFFFF;\n",
              "      }\n",
              "    </style>\n",
              "    <button class=\"colab-df-generate\" onclick=\"generateWithVariable('df')\"\n",
              "            title=\"Generate code using this dataframe.\"\n",
              "            style=\"display:none;\">\n",
              "\n",
              "  <svg xmlns=\"http://www.w3.org/2000/svg\" height=\"24px\"viewBox=\"0 0 24 24\"\n",
              "       width=\"24px\">\n",
              "    <path d=\"M7,19H8.4L18.45,9,17,7.55,7,17.6ZM5,21V16.75L18.45,3.32a2,2,0,0,1,2.83,0l1.4,1.43a1.91,1.91,0,0,1,.58,1.4,1.91,1.91,0,0,1-.58,1.4L9.25,21ZM18.45,9,17,7.55Zm-12,3A5.31,5.31,0,0,0,4.9,8.1,5.31,5.31,0,0,0,1,6.5,5.31,5.31,0,0,0,4.9,4.9,5.31,5.31,0,0,0,6.5,1,5.31,5.31,0,0,0,8.1,4.9,5.31,5.31,0,0,0,12,6.5,5.46,5.46,0,0,0,6.5,12Z\"/>\n",
              "  </svg>\n",
              "    </button>\n",
              "    <script>\n",
              "      (() => {\n",
              "      const buttonEl =\n",
              "        document.querySelector('#id_cbd5927d-0083-4f9b-a1f5-262de777bb51 button.colab-df-generate');\n",
              "      buttonEl.style.display =\n",
              "        google.colab.kernel.accessAllowed ? 'block' : 'none';\n",
              "\n",
              "      buttonEl.onclick = () => {\n",
              "        google.colab.notebook.generateWithVariable('df');\n",
              "      }\n",
              "      })();\n",
              "    </script>\n",
              "  </div>\n",
              "\n",
              "    </div>\n",
              "  </div>\n"
            ],
            "application/vnd.google.colaboratory.intrinsic+json": {
              "type": "dataframe",
              "variable_name": "df"
            }
          },
          "metadata": {},
          "execution_count": 2
        }
      ]
    },
    {
      "cell_type": "markdown",
      "source": [
        "# Data preprocessing"
      ],
      "metadata": {
        "id": "2MNyE1uYxMTt"
      }
    },
    {
      "cell_type": "code",
      "source": [
        "#checking the dataset information\n",
        "df.info()"
      ],
      "metadata": {
        "colab": {
          "base_uri": "https://localhost:8080/"
        },
        "id": "Hhn1EfgwXDKV",
        "outputId": "7c5633a6-7071-4355-b6cb-0ee8b936447d"
      },
      "execution_count": null,
      "outputs": [
        {
          "output_type": "stream",
          "name": "stdout",
          "text": [
            "<class 'pandas.core.frame.DataFrame'>\n",
            "RangeIndex: 898 entries, 0 to 897\n",
            "Data columns (total 35 columns):\n",
            " #   Column         Non-Null Count  Dtype  \n",
            "---  ------         --------------  -----  \n",
            " 0   AREA           898 non-null    int64  \n",
            " 1   PERIMETER      898 non-null    float64\n",
            " 2   MAJOR_AXIS     898 non-null    float64\n",
            " 3   MINOR_AXIS     898 non-null    float64\n",
            " 4   ECCENTRICITY   898 non-null    float64\n",
            " 5   EQDIASQ        898 non-null    float64\n",
            " 6   SOLIDITY       898 non-null    float64\n",
            " 7   CONVEX_AREA    898 non-null    int64  \n",
            " 8   EXTENT         898 non-null    float64\n",
            " 9   ASPECT_RATIO   898 non-null    float64\n",
            " 10  ROUNDNESS      898 non-null    float64\n",
            " 11  COMPACTNESS    898 non-null    float64\n",
            " 12  SHAPEFACTOR_1  898 non-null    float64\n",
            " 13  SHAPEFACTOR_2  898 non-null    float64\n",
            " 14  SHAPEFACTOR_3  898 non-null    float64\n",
            " 15  SHAPEFACTOR_4  898 non-null    float64\n",
            " 16  MeanRR         898 non-null    float64\n",
            " 17  MeanRG         898 non-null    float64\n",
            " 18  MeanRB         898 non-null    float64\n",
            " 19  StdDevRR       898 non-null    float64\n",
            " 20  StdDevRG       898 non-null    float64\n",
            " 21  StdDevRB       898 non-null    float64\n",
            " 22  SkewRR         898 non-null    float64\n",
            " 23  SkewRG         898 non-null    float64\n",
            " 24  SkewRB         898 non-null    float64\n",
            " 25  KurtosisRR     898 non-null    float64\n",
            " 26  KurtosisRG     898 non-null    float64\n",
            " 27  KurtosisRB     898 non-null    float64\n",
            " 28  EntropyRR      898 non-null    int64  \n",
            " 29  EntropyRG      898 non-null    int64  \n",
            " 30  EntropyRB      898 non-null    int64  \n",
            " 31  ALLdaub4RR     898 non-null    float64\n",
            " 32  ALLdaub4RG     898 non-null    float64\n",
            " 33  ALLdaub4RB     898 non-null    float64\n",
            " 34  Class          898 non-null    object \n",
            "dtypes: float64(29), int64(5), object(1)\n",
            "memory usage: 245.7+ KB\n"
          ]
        }
      ]
    },
    {
      "cell_type": "code",
      "source": [
        "# Checking for the missing values\n",
        "df.isnull().sum()"
      ],
      "metadata": {
        "colab": {
          "base_uri": "https://localhost:8080/"
        },
        "id": "2rG6LHWDXTL2",
        "outputId": "eff6a630-f02b-471e-c2bd-603eefce0b7a"
      },
      "execution_count": null,
      "outputs": [
        {
          "output_type": "execute_result",
          "data": {
            "text/plain": [
              "AREA             0\n",
              "PERIMETER        0\n",
              "MAJOR_AXIS       0\n",
              "MINOR_AXIS       0\n",
              "ECCENTRICITY     0\n",
              "EQDIASQ          0\n",
              "SOLIDITY         0\n",
              "CONVEX_AREA      0\n",
              "EXTENT           0\n",
              "ASPECT_RATIO     0\n",
              "ROUNDNESS        0\n",
              "COMPACTNESS      0\n",
              "SHAPEFACTOR_1    0\n",
              "SHAPEFACTOR_2    0\n",
              "SHAPEFACTOR_3    0\n",
              "SHAPEFACTOR_4    0\n",
              "MeanRR           0\n",
              "MeanRG           0\n",
              "MeanRB           0\n",
              "StdDevRR         0\n",
              "StdDevRG         0\n",
              "StdDevRB         0\n",
              "SkewRR           0\n",
              "SkewRG           0\n",
              "SkewRB           0\n",
              "KurtosisRR       0\n",
              "KurtosisRG       0\n",
              "KurtosisRB       0\n",
              "EntropyRR        0\n",
              "EntropyRG        0\n",
              "EntropyRB        0\n",
              "ALLdaub4RR       0\n",
              "ALLdaub4RG       0\n",
              "ALLdaub4RB       0\n",
              "Class            0\n",
              "dtype: int64"
            ]
          },
          "metadata": {},
          "execution_count": 4
        }
      ]
    },
    {
      "cell_type": "markdown",
      "source": [
        "### Generating Matrix of Features (X) and Dependent Variable Vector(Y)"
      ],
      "metadata": {
        "id": "QskFk_wgZ2an"
      }
    },
    {
      "cell_type": "code",
      "source": [
        "df.columns"
      ],
      "metadata": {
        "colab": {
          "base_uri": "https://localhost:8080/"
        },
        "id": "8eebpqwFYLRZ",
        "outputId": "c2e76b33-b3f2-4775-e275-7e2a6aa007e1"
      },
      "execution_count": null,
      "outputs": [
        {
          "output_type": "execute_result",
          "data": {
            "text/plain": [
              "Index(['AREA', 'PERIMETER', 'MAJOR_AXIS', 'MINOR_AXIS', 'ECCENTRICITY',\n",
              "       'EQDIASQ', 'SOLIDITY', 'CONVEX_AREA', 'EXTENT', 'ASPECT_RATIO',\n",
              "       'ROUNDNESS', 'COMPACTNESS', 'SHAPEFACTOR_1', 'SHAPEFACTOR_2',\n",
              "       'SHAPEFACTOR_3', 'SHAPEFACTOR_4', 'MeanRR', 'MeanRG', 'MeanRB',\n",
              "       'StdDevRR', 'StdDevRG', 'StdDevRB', 'SkewRR', 'SkewRG', 'SkewRB',\n",
              "       'KurtosisRR', 'KurtosisRG', 'KurtosisRB', 'EntropyRR', 'EntropyRG',\n",
              "       'EntropyRB', 'ALLdaub4RR', 'ALLdaub4RG', 'ALLdaub4RB', 'Class'],\n",
              "      dtype='object')"
            ]
          },
          "metadata": {},
          "execution_count": 5
        }
      ]
    },
    {
      "cell_type": "code",
      "source": [
        "X=df.drop(['Class'], axis=1)\n",
        "Y=df['Class']\n",
        "X.columns"
      ],
      "metadata": {
        "colab": {
          "base_uri": "https://localhost:8080/"
        },
        "id": "1LC5MqvDXf7H",
        "outputId": "dfb364d2-46e7-42e5-c1df-9af6dfeac8ae"
      },
      "execution_count": null,
      "outputs": [
        {
          "output_type": "execute_result",
          "data": {
            "text/plain": [
              "Index(['AREA', 'PERIMETER', 'MAJOR_AXIS', 'MINOR_AXIS', 'ECCENTRICITY',\n",
              "       'EQDIASQ', 'SOLIDITY', 'CONVEX_AREA', 'EXTENT', 'ASPECT_RATIO',\n",
              "       'ROUNDNESS', 'COMPACTNESS', 'SHAPEFACTOR_1', 'SHAPEFACTOR_2',\n",
              "       'SHAPEFACTOR_3', 'SHAPEFACTOR_4', 'MeanRR', 'MeanRG', 'MeanRB',\n",
              "       'StdDevRR', 'StdDevRG', 'StdDevRB', 'SkewRR', 'SkewRG', 'SkewRB',\n",
              "       'KurtosisRR', 'KurtosisRG', 'KurtosisRB', 'EntropyRR', 'EntropyRG',\n",
              "       'EntropyRB', 'ALLdaub4RR', 'ALLdaub4RG', 'ALLdaub4RB'],\n",
              "      dtype='object')"
            ]
          },
          "metadata": {},
          "execution_count": 6
        }
      ]
    },
    {
      "cell_type": "code",
      "source": [
        "#veryfying the number of unique values in our target column(Class)\n",
        "class_values=df[\"Class\"].unique()\n",
        "class_valsum=df[\"Class\"].nunique()\n",
        "\n",
        "print(class_values)\n",
        "print()\n",
        "print(class_valsum)"
      ],
      "metadata": {
        "colab": {
          "base_uri": "https://localhost:8080/"
        },
        "id": "Y_VHYaocb5vl",
        "outputId": "95c86d1b-df8d-425f-dfd9-75f1f3ff556b"
      },
      "execution_count": null,
      "outputs": [
        {
          "output_type": "stream",
          "name": "stdout",
          "text": [
            "['BERHI' 'DEGLET' 'DOKOL' 'IRAQI' 'ROTANA' 'SAFAVI' 'SOGAY']\n",
            "\n",
            "7\n"
          ]
        }
      ]
    },
    {
      "cell_type": "code",
      "source": [
        "#Label encoding the column Class (target)\n",
        "from sklearn.preprocessing import LabelEncoder\n",
        "le = LabelEncoder()\n",
        "Y = df['Class']\n",
        "Y = le.fit_transform(Y)\n"
      ],
      "metadata": {
        "id": "Vfo8eqKxiaEB"
      },
      "execution_count": null,
      "outputs": []
    },
    {
      "cell_type": "code",
      "source": [
        "#Splitting dataset into training and testing dataset\n",
        "from sklearn.model_selection import train_test_split\n",
        "X_train,X_test,Y_train,Y_test = train_test_split(X,Y,test_size=0.2,random_state=42)"
      ],
      "metadata": {
        "id": "ZTmw5BDsZsSH"
      },
      "execution_count": null,
      "outputs": []
    },
    {
      "cell_type": "code",
      "source": [
        "#Performing Feature Scaling\n",
        "from sklearn.preprocessing import StandardScaler\n",
        "sc = StandardScaler()\n",
        "X_train = sc.fit_transform(X_train)\n",
        "X_test = sc.transform(X_test)"
      ],
      "metadata": {
        "id": "xelFWD0NZ_QE"
      },
      "execution_count": null,
      "outputs": []
    },
    {
      "cell_type": "markdown",
      "source": [
        "# **Artificial Neural Network**"
      ],
      "metadata": {
        "id": "8GtBnLW5aQCR"
      }
    },
    {
      "cell_type": "code",
      "source": [
        "#Initialising ANN\n",
        "ann= tf.keras.models.Sequential()"
      ],
      "metadata": {
        "id": "EgNCbG_UaSTY"
      },
      "execution_count": null,
      "outputs": []
    },
    {
      "cell_type": "markdown",
      "source": [
        "## Defining the Model Architecture"
      ],
      "metadata": {
        "id": "asuSAwCEaol0"
      }
    },
    {
      "cell_type": "code",
      "source": [
        "# 2 hidden layers and 1 output layer\n",
        "ann.add(tf.keras.layers.Dense(units=8,activation=\"relu\")) #1st layer\n",
        "ann.add(tf.keras.layers.Dense(units=8,activation=\"relu\")) #2nd layer\n",
        "\n",
        "\n",
        "ann.add(tf.keras.layers.Dense(units=7, activation=\"softmax\")) #output layer"
      ],
      "metadata": {
        "id": "WkfEFVxJatsJ"
      },
      "execution_count": null,
      "outputs": []
    },
    {
      "cell_type": "markdown",
      "source": [
        "## Compiling the model"
      ],
      "metadata": {
        "id": "Z_iIZDurbVWe"
      }
    },
    {
      "cell_type": "code",
      "source": [
        "\n",
        "ann.compile(loss=\"sparse_categorical_crossentropy\", optimizer=\"adam\", metrics=[\"accuracy\"])"
      ],
      "metadata": {
        "id": "qiXvC5ZtbEDI"
      },
      "execution_count": null,
      "outputs": []
    },
    {
      "cell_type": "markdown",
      "source": [
        "## Training and Evaluating the Model"
      ],
      "metadata": {
        "id": "7S4I9eUDBu4p"
      }
    },
    {
      "cell_type": "code",
      "source": [
        "#Fitting ANN\n",
        "Training_progress=ann.fit(X_train,Y_train,batch_size=35, epochs =81, validation_data=(X_test, Y_test))\n",
        "print(\"The training has been successful\")"
      ],
      "metadata": {
        "colab": {
          "base_uri": "https://localhost:8080/"
        },
        "id": "VNplZIG0eZkh",
        "outputId": "26a70abd-21d1-4d6f-ba24-4fe8b772adf6"
      },
      "execution_count": null,
      "outputs": [
        {
          "output_type": "stream",
          "name": "stdout",
          "text": [
            "Epoch 1/81\n",
            "21/21 [==============================] - 2s 22ms/step - loss: 2.0963 - accuracy: 0.1142 - val_loss: 1.9373 - val_accuracy: 0.1944\n",
            "Epoch 2/81\n",
            "21/21 [==============================] - 0s 6ms/step - loss: 1.8554 - accuracy: 0.2312 - val_loss: 1.7324 - val_accuracy: 0.3833\n",
            "Epoch 3/81\n",
            "21/21 [==============================] - 0s 6ms/step - loss: 1.6856 - accuracy: 0.3942 - val_loss: 1.5801 - val_accuracy: 0.4778\n",
            "Epoch 4/81\n",
            "21/21 [==============================] - 0s 6ms/step - loss: 1.5580 - accuracy: 0.4680 - val_loss: 1.4487 - val_accuracy: 0.5333\n",
            "Epoch 5/81\n",
            "21/21 [==============================] - 0s 6ms/step - loss: 1.4440 - accuracy: 0.4986 - val_loss: 1.3348 - val_accuracy: 0.5556\n",
            "Epoch 6/81\n",
            "21/21 [==============================] - 0s 5ms/step - loss: 1.3417 - accuracy: 0.5376 - val_loss: 1.2372 - val_accuracy: 0.5722\n",
            "Epoch 7/81\n",
            "21/21 [==============================] - 0s 5ms/step - loss: 1.2549 - accuracy: 0.5877 - val_loss: 1.1617 - val_accuracy: 0.6333\n",
            "Epoch 8/81\n",
            "21/21 [==============================] - 0s 4ms/step - loss: 1.1807 - accuracy: 0.6462 - val_loss: 1.0953 - val_accuracy: 0.7000\n",
            "Epoch 9/81\n",
            "21/21 [==============================] - 0s 4ms/step - loss: 1.1199 - accuracy: 0.7117 - val_loss: 1.0413 - val_accuracy: 0.7222\n",
            "Epoch 10/81\n",
            "21/21 [==============================] - 0s 4ms/step - loss: 1.0659 - accuracy: 0.7298 - val_loss: 0.9900 - val_accuracy: 0.7167\n",
            "Epoch 11/81\n",
            "21/21 [==============================] - 0s 4ms/step - loss: 1.0086 - accuracy: 0.7507 - val_loss: 0.9336 - val_accuracy: 0.7444\n",
            "Epoch 12/81\n",
            "21/21 [==============================] - 0s 5ms/step - loss: 0.9393 - accuracy: 0.7660 - val_loss: 0.8601 - val_accuracy: 0.7500\n",
            "Epoch 13/81\n",
            "21/21 [==============================] - 0s 5ms/step - loss: 0.8492 - accuracy: 0.7758 - val_loss: 0.7642 - val_accuracy: 0.7500\n",
            "Epoch 14/81\n",
            "21/21 [==============================] - 0s 6ms/step - loss: 0.7443 - accuracy: 0.7786 - val_loss: 0.6766 - val_accuracy: 0.7556\n",
            "Epoch 15/81\n",
            "21/21 [==============================] - 0s 6ms/step - loss: 0.6586 - accuracy: 0.7911 - val_loss: 0.6147 - val_accuracy: 0.7833\n",
            "Epoch 16/81\n",
            "21/21 [==============================] - 0s 7ms/step - loss: 0.6076 - accuracy: 0.7967 - val_loss: 0.5763 - val_accuracy: 0.7889\n",
            "Epoch 17/81\n",
            "21/21 [==============================] - 0s 5ms/step - loss: 0.5734 - accuracy: 0.7953 - val_loss: 0.5525 - val_accuracy: 0.7889\n",
            "Epoch 18/81\n",
            "21/21 [==============================] - 0s 5ms/step - loss: 0.5485 - accuracy: 0.8022 - val_loss: 0.5339 - val_accuracy: 0.7889\n",
            "Epoch 19/81\n",
            "21/21 [==============================] - 0s 6ms/step - loss: 0.5296 - accuracy: 0.8106 - val_loss: 0.5106 - val_accuracy: 0.7889\n",
            "Epoch 20/81\n",
            "21/21 [==============================] - 0s 6ms/step - loss: 0.5130 - accuracy: 0.8008 - val_loss: 0.4981 - val_accuracy: 0.8000\n",
            "Epoch 21/81\n",
            "21/21 [==============================] - 0s 5ms/step - loss: 0.4964 - accuracy: 0.8106 - val_loss: 0.4865 - val_accuracy: 0.7944\n",
            "Epoch 22/81\n",
            "21/21 [==============================] - 0s 4ms/step - loss: 0.4835 - accuracy: 0.8134 - val_loss: 0.4768 - val_accuracy: 0.7944\n",
            "Epoch 23/81\n",
            "21/21 [==============================] - 0s 4ms/step - loss: 0.4710 - accuracy: 0.8120 - val_loss: 0.4643 - val_accuracy: 0.7944\n",
            "Epoch 24/81\n",
            "21/21 [==============================] - 0s 7ms/step - loss: 0.4588 - accuracy: 0.8162 - val_loss: 0.4553 - val_accuracy: 0.7944\n",
            "Epoch 25/81\n",
            "21/21 [==============================] - 0s 6ms/step - loss: 0.4487 - accuracy: 0.8259 - val_loss: 0.4472 - val_accuracy: 0.7944\n",
            "Epoch 26/81\n",
            "21/21 [==============================] - 0s 4ms/step - loss: 0.4387 - accuracy: 0.8203 - val_loss: 0.4348 - val_accuracy: 0.7944\n",
            "Epoch 27/81\n",
            "21/21 [==============================] - 0s 5ms/step - loss: 0.4297 - accuracy: 0.8287 - val_loss: 0.4317 - val_accuracy: 0.7944\n",
            "Epoch 28/81\n",
            "21/21 [==============================] - 0s 5ms/step - loss: 0.4196 - accuracy: 0.8273 - val_loss: 0.4225 - val_accuracy: 0.7944\n",
            "Epoch 29/81\n",
            "21/21 [==============================] - 0s 4ms/step - loss: 0.4133 - accuracy: 0.8329 - val_loss: 0.4122 - val_accuracy: 0.8111\n",
            "Epoch 30/81\n",
            "21/21 [==============================] - 0s 5ms/step - loss: 0.4047 - accuracy: 0.8273 - val_loss: 0.4065 - val_accuracy: 0.8111\n",
            "Epoch 31/81\n",
            "21/21 [==============================] - 0s 5ms/step - loss: 0.3958 - accuracy: 0.8357 - val_loss: 0.4006 - val_accuracy: 0.8222\n",
            "Epoch 32/81\n",
            "21/21 [==============================] - 0s 4ms/step - loss: 0.3897 - accuracy: 0.8412 - val_loss: 0.3894 - val_accuracy: 0.8389\n",
            "Epoch 33/81\n",
            "21/21 [==============================] - 0s 4ms/step - loss: 0.3823 - accuracy: 0.8468 - val_loss: 0.3854 - val_accuracy: 0.8389\n",
            "Epoch 34/81\n",
            "21/21 [==============================] - 0s 5ms/step - loss: 0.3770 - accuracy: 0.8468 - val_loss: 0.3773 - val_accuracy: 0.8389\n",
            "Epoch 35/81\n",
            "21/21 [==============================] - 0s 4ms/step - loss: 0.3699 - accuracy: 0.8510 - val_loss: 0.3728 - val_accuracy: 0.8500\n",
            "Epoch 36/81\n",
            "21/21 [==============================] - 0s 4ms/step - loss: 0.3633 - accuracy: 0.8510 - val_loss: 0.3686 - val_accuracy: 0.8667\n",
            "Epoch 37/81\n",
            "21/21 [==============================] - 0s 4ms/step - loss: 0.3587 - accuracy: 0.8579 - val_loss: 0.3616 - val_accuracy: 0.8556\n",
            "Epoch 38/81\n",
            "21/21 [==============================] - 0s 4ms/step - loss: 0.3530 - accuracy: 0.8552 - val_loss: 0.3536 - val_accuracy: 0.8611\n",
            "Epoch 39/81\n",
            "21/21 [==============================] - 0s 4ms/step - loss: 0.3475 - accuracy: 0.8607 - val_loss: 0.3511 - val_accuracy: 0.8667\n",
            "Epoch 40/81\n",
            "21/21 [==============================] - 0s 4ms/step - loss: 0.3424 - accuracy: 0.8663 - val_loss: 0.3507 - val_accuracy: 0.8722\n",
            "Epoch 41/81\n",
            "21/21 [==============================] - 0s 5ms/step - loss: 0.3364 - accuracy: 0.8705 - val_loss: 0.3454 - val_accuracy: 0.8778\n",
            "Epoch 42/81\n",
            "21/21 [==============================] - 0s 5ms/step - loss: 0.3321 - accuracy: 0.8677 - val_loss: 0.3338 - val_accuracy: 0.8778\n",
            "Epoch 43/81\n",
            "21/21 [==============================] - 0s 5ms/step - loss: 0.3267 - accuracy: 0.8719 - val_loss: 0.3318 - val_accuracy: 0.8722\n",
            "Epoch 44/81\n",
            "21/21 [==============================] - 0s 6ms/step - loss: 0.3220 - accuracy: 0.8705 - val_loss: 0.3308 - val_accuracy: 0.8667\n",
            "Epoch 45/81\n",
            "21/21 [==============================] - 0s 5ms/step - loss: 0.3174 - accuracy: 0.8760 - val_loss: 0.3205 - val_accuracy: 0.8778\n",
            "Epoch 46/81\n",
            "21/21 [==============================] - 0s 5ms/step - loss: 0.3137 - accuracy: 0.8788 - val_loss: 0.3182 - val_accuracy: 0.8722\n",
            "Epoch 47/81\n",
            "21/21 [==============================] - 0s 5ms/step - loss: 0.3095 - accuracy: 0.8816 - val_loss: 0.3120 - val_accuracy: 0.8778\n",
            "Epoch 48/81\n",
            "21/21 [==============================] - 0s 6ms/step - loss: 0.3047 - accuracy: 0.8816 - val_loss: 0.3108 - val_accuracy: 0.8833\n",
            "Epoch 49/81\n",
            "21/21 [==============================] - 0s 5ms/step - loss: 0.3020 - accuracy: 0.8774 - val_loss: 0.3046 - val_accuracy: 0.8889\n",
            "Epoch 50/81\n",
            "21/21 [==============================] - 0s 5ms/step - loss: 0.2969 - accuracy: 0.8872 - val_loss: 0.3004 - val_accuracy: 0.8889\n",
            "Epoch 51/81\n",
            "21/21 [==============================] - 0s 5ms/step - loss: 0.2930 - accuracy: 0.8872 - val_loss: 0.2986 - val_accuracy: 0.8833\n",
            "Epoch 52/81\n",
            "21/21 [==============================] - 0s 5ms/step - loss: 0.2901 - accuracy: 0.8858 - val_loss: 0.2921 - val_accuracy: 0.8889\n",
            "Epoch 53/81\n",
            "21/21 [==============================] - 0s 6ms/step - loss: 0.2870 - accuracy: 0.8886 - val_loss: 0.2898 - val_accuracy: 0.8833\n",
            "Epoch 54/81\n",
            "21/21 [==============================] - 0s 4ms/step - loss: 0.2836 - accuracy: 0.8900 - val_loss: 0.2904 - val_accuracy: 0.8889\n",
            "Epoch 55/81\n",
            "21/21 [==============================] - 0s 4ms/step - loss: 0.2823 - accuracy: 0.8928 - val_loss: 0.2884 - val_accuracy: 0.8833\n",
            "Epoch 56/81\n",
            "21/21 [==============================] - 0s 6ms/step - loss: 0.2777 - accuracy: 0.8928 - val_loss: 0.2843 - val_accuracy: 0.8889\n",
            "Epoch 57/81\n",
            "21/21 [==============================] - 0s 4ms/step - loss: 0.2748 - accuracy: 0.8928 - val_loss: 0.2745 - val_accuracy: 0.9000\n",
            "Epoch 58/81\n",
            "21/21 [==============================] - 0s 4ms/step - loss: 0.2714 - accuracy: 0.8955 - val_loss: 0.2801 - val_accuracy: 0.8944\n",
            "Epoch 59/81\n",
            "21/21 [==============================] - 0s 6ms/step - loss: 0.2689 - accuracy: 0.8942 - val_loss: 0.2760 - val_accuracy: 0.8944\n",
            "Epoch 60/81\n",
            "21/21 [==============================] - 0s 5ms/step - loss: 0.2667 - accuracy: 0.8983 - val_loss: 0.2721 - val_accuracy: 0.9000\n",
            "Epoch 61/81\n",
            "21/21 [==============================] - 0s 5ms/step - loss: 0.2630 - accuracy: 0.9081 - val_loss: 0.2679 - val_accuracy: 0.8944\n",
            "Epoch 62/81\n",
            "21/21 [==============================] - 0s 5ms/step - loss: 0.2615 - accuracy: 0.9039 - val_loss: 0.2657 - val_accuracy: 0.9000\n",
            "Epoch 63/81\n",
            "21/21 [==============================] - 0s 4ms/step - loss: 0.2585 - accuracy: 0.9067 - val_loss: 0.2624 - val_accuracy: 0.9111\n",
            "Epoch 64/81\n",
            "21/21 [==============================] - 0s 6ms/step - loss: 0.2571 - accuracy: 0.9109 - val_loss: 0.2617 - val_accuracy: 0.9000\n",
            "Epoch 65/81\n",
            "21/21 [==============================] - 0s 4ms/step - loss: 0.2543 - accuracy: 0.9081 - val_loss: 0.2627 - val_accuracy: 0.9167\n",
            "Epoch 66/81\n",
            "21/21 [==============================] - 0s 4ms/step - loss: 0.2515 - accuracy: 0.9095 - val_loss: 0.2554 - val_accuracy: 0.9167\n",
            "Epoch 67/81\n",
            "21/21 [==============================] - 0s 6ms/step - loss: 0.2487 - accuracy: 0.9109 - val_loss: 0.2587 - val_accuracy: 0.9222\n",
            "Epoch 68/81\n",
            "21/21 [==============================] - 0s 5ms/step - loss: 0.2475 - accuracy: 0.9123 - val_loss: 0.2527 - val_accuracy: 0.9167\n",
            "Epoch 69/81\n",
            "21/21 [==============================] - 0s 4ms/step - loss: 0.2486 - accuracy: 0.9095 - val_loss: 0.2485 - val_accuracy: 0.9167\n",
            "Epoch 70/81\n",
            "21/21 [==============================] - 0s 5ms/step - loss: 0.2423 - accuracy: 0.9150 - val_loss: 0.2518 - val_accuracy: 0.9222\n",
            "Epoch 71/81\n",
            "21/21 [==============================] - 0s 5ms/step - loss: 0.2408 - accuracy: 0.9164 - val_loss: 0.2495 - val_accuracy: 0.9222\n",
            "Epoch 72/81\n",
            "21/21 [==============================] - 0s 4ms/step - loss: 0.2409 - accuracy: 0.9095 - val_loss: 0.2440 - val_accuracy: 0.9222\n",
            "Epoch 73/81\n",
            "21/21 [==============================] - 0s 5ms/step - loss: 0.2368 - accuracy: 0.9178 - val_loss: 0.2497 - val_accuracy: 0.9222\n",
            "Epoch 74/81\n",
            "21/21 [==============================] - 0s 4ms/step - loss: 0.2364 - accuracy: 0.9178 - val_loss: 0.2411 - val_accuracy: 0.9278\n",
            "Epoch 75/81\n",
            "21/21 [==============================] - 0s 4ms/step - loss: 0.2338 - accuracy: 0.9178 - val_loss: 0.2402 - val_accuracy: 0.9222\n",
            "Epoch 76/81\n",
            "21/21 [==============================] - 0s 5ms/step - loss: 0.2330 - accuracy: 0.9192 - val_loss: 0.2377 - val_accuracy: 0.9222\n",
            "Epoch 77/81\n",
            "21/21 [==============================] - 0s 4ms/step - loss: 0.2316 - accuracy: 0.9178 - val_loss: 0.2366 - val_accuracy: 0.9222\n",
            "Epoch 78/81\n",
            "21/21 [==============================] - 0s 5ms/step - loss: 0.2299 - accuracy: 0.9220 - val_loss: 0.2367 - val_accuracy: 0.9222\n",
            "Epoch 79/81\n",
            "21/21 [==============================] - 0s 4ms/step - loss: 0.2281 - accuracy: 0.9206 - val_loss: 0.2353 - val_accuracy: 0.9278\n",
            "Epoch 80/81\n",
            "21/21 [==============================] - 0s 4ms/step - loss: 0.2263 - accuracy: 0.9206 - val_loss: 0.2385 - val_accuracy: 0.9278\n",
            "Epoch 81/81\n",
            "21/21 [==============================] - 0s 5ms/step - loss: 0.2250 - accuracy: 0.9220 - val_loss: 0.2317 - val_accuracy: 0.9278\n",
            "The training has been successful\n"
          ]
        }
      ]
    },
    {
      "cell_type": "markdown",
      "source": [
        "## Visualization our model summary that describes the various layers defined in the model."
      ],
      "metadata": {
        "id": "eW8L5ZzJAeq9"
      }
    },
    {
      "cell_type": "code",
      "source": [
        "from tensorflow.keras.utils import plot_model\n",
        "\n",
        "# Plot the model architecture\n",
        "plot_model(ann, to_file='model_plot.png', show_shapes=True, show_layer_names=True)"
      ],
      "metadata": {
        "colab": {
          "base_uri": "https://localhost:8080/",
          "height": 422
        },
        "id": "fF5nNIj7rLUW",
        "outputId": "2c3e505c-32bb-42c1-8c8c-7ee63b367ba1"
      },
      "execution_count": null,
      "outputs": [
        {
          "output_type": "execute_result",
          "data": {
            "image/png": "[encoded data removed]",
            "text/plain": [
              "<IPython.core.display.Image object>"
            ]
          },
          "metadata": {},
          "execution_count": 15
        }
      ]
    },
    {
      "cell_type": "markdown",
      "source": [
        "## The Model Summary"
      ],
      "metadata": {
        "id": "n9mEMOFtAS91"
      }
    },
    {
      "cell_type": "code",
      "source": [
        "ann.summary()\n"
      ],
      "metadata": {
        "colab": {
          "base_uri": "https://localhost:8080/"
        },
        "id": "dCtYyA3wwLRW",
        "outputId": "bf524295-c01a-480b-c134-823daa8854d0"
      },
      "execution_count": null,
      "outputs": [
        {
          "output_type": "stream",
          "name": "stdout",
          "text": [
            "Model: \"sequential\"\n",
            "_________________________________________________________________\n",
            " Layer (type)                Output Shape              Param #   \n",
            "=================================================================\n",
            " dense (Dense)               (None, 8)                 280       \n",
            "                                                                 \n",
            " dense_1 (Dense)             (None, 8)                 72        \n",
            "                                                                 \n",
            " dense_2 (Dense)             (None, 7)                 63        \n",
            "                                                                 \n",
            "=================================================================\n",
            "Total params: 415 (1.62 KB)\n",
            "Trainable params: 415 (1.62 KB)\n",
            "Non-trainable params: 0 (0.00 Byte)\n",
            "_________________________________________________________________\n"
          ]
        }
      ]
    },
    {
      "cell_type": "markdown",
      "source": [
        "## Visualizing the training Accuracy and Loss progress from one epoch to another"
      ],
      "metadata": {
        "id": "fq69Ti7cAodq"
      }
    },
    {
      "cell_type": "code",
      "source": [
        "import matplotlib.pyplot as plt\n",
        "\n",
        "#the accuracy plot\n",
        "fig, axs = plt.subplots(1, 2, figsize=(10, 4))\n",
        "\n",
        "axs[0].plot(Training_progress.history['accuracy'], color='red', label='training set')\n",
        "axs[0].plot(Training_progress.history['val_accuracy'], color='green', label='test set')\n",
        "axs[0].set_title(\"Accuracy per Epoch\")\n",
        "axs[0].set_xlabel('Epoch Number')\n",
        "axs[0].set_ylabel('Accuracy')\n",
        "axs[0].legend()\n",
        "\n",
        "#the loss plot\n",
        "axs[1].plot(Training_progress.history['loss'], color='red', label='training set')\n",
        "axs[1].plot(Training_progress.history['val_loss'], color='green', label='test set')\n",
        "axs[1].set_title(\"Loss per Epoch\")\n",
        "axs[1].set_xlabel('Epoch Number')\n",
        "axs[1].set_ylabel('Loss')\n",
        "axs[1].legend()"
      ],
      "metadata": {
        "colab": {
          "base_uri": "https://localhost:8080/",
          "height": 427
        },
        "id": "zZ-5Uyua3JwO",
        "outputId": "8bc354de-1487-4698-d1d6-5961324e929d"
      },
      "execution_count": null,
      "outputs": [
        {
          "output_type": "execute_result",
          "data": {
            "text/plain": [
              "<matplotlib.legend.Legend at 0x7e7bfca6db70>"
            ]
          },
          "metadata": {},
          "execution_count": 17
        },
        {
          "output_type": "display_data",
          "data": {
            "text/plain": [
              "<Figure size 1000x400 with 2 Axes>"
            ],
            "image/png": "[encoded data removed]"
          },
          "metadata": {}
        }
      ]
    },
    {
      "cell_type": "markdown",
      "source": [
        "## ANN Model prediction"
      ],
      "metadata": {
        "id": "vp1TwogzPzc8"
      }
    },
    {
      "cell_type": "code",
      "source": [
        "Y_pred_probs = ann.predict(X_test)\n",
        "\n",
        "# Getting the index of the class with the highest probability for each sample\n",
        "Y_pred_index = np.argmax(Y_pred_probs, axis=1)\n",
        "\n",
        "# Decoding the predicted labels back to their original names\n",
        "Y_pred_names = le.inverse_transform(Y_pred_index)\n",
        "\n",
        "print(\"Predicted output in original names:\")\n",
        "print(Y_pred_names)"
      ],
      "metadata": {
        "colab": {
          "base_uri": "https://localhost:8080/"
        },
        "id": "hYJVqjNBPHI9",
        "outputId": "b416fb76-5500-417e-b342-0af42b399496"
      },
      "execution_count": null,
      "outputs": [
        {
          "output_type": "stream",
          "name": "stdout",
          "text": [
            "6/6 [==============================] - 0s 4ms/step\n",
            "Predicted output in original names:\n",
            "['DOKOL' 'SAFAVI' 'DOKOL' 'SOGAY' 'BERHI' 'DOKOL' 'IRAQI' 'DOKOL' 'DOKOL'\n",
            " 'DEGLET' 'DEGLET' 'DOKOL' 'DOKOL' 'DOKOL' 'ROTANA' 'SOGAY' 'DEGLET'\n",
            " 'SAFAVI' 'DEGLET' 'DEGLET' 'SAFAVI' 'ROTANA' 'DOKOL' 'ROTANA' 'SAFAVI'\n",
            " 'DOKOL' 'IRAQI' 'SOGAY' 'BERHI' 'SAFAVI' 'SOGAY' 'DEGLET' 'DOKOL'\n",
            " 'ROTANA' 'DOKOL' 'SAFAVI' 'BERHI' 'DOKOL' 'DOKOL' 'SAFAVI' 'DOKOL'\n",
            " 'ROTANA' 'SAFAVI' 'SAFAVI' 'DEGLET' 'DEGLET' 'DEGLET' 'DOKOL' 'DOKOL'\n",
            " 'SAFAVI' 'ROTANA' 'IRAQI' 'DOKOL' 'SOGAY' 'DOKOL' 'ROTANA' 'ROTANA'\n",
            " 'DOKOL' 'DOKOL' 'BERHI' 'IRAQI' 'DEGLET' 'DOKOL' 'DOKOL' 'DOKOL' 'SOGAY'\n",
            " 'DEGLET' 'DOKOL' 'ROTANA' 'ROTANA' 'DOKOL' 'DOKOL' 'ROTANA' 'SOGAY'\n",
            " 'IRAQI' 'ROTANA' 'DOKOL' 'ROTANA' 'SAFAVI' 'ROTANA' 'DOKOL' 'DEGLET'\n",
            " 'ROTANA' 'IRAQI' 'DOKOL' 'ROTANA' 'DOKOL' 'SAFAVI' 'IRAQI' 'DOKOL'\n",
            " 'DOKOL' 'SAFAVI' 'SAFAVI' 'IRAQI' 'DEGLET' 'DOKOL' 'DOKOL' 'DOKOL'\n",
            " 'DOKOL' 'ROTANA' 'ROTANA' 'IRAQI' 'DOKOL' 'SAFAVI' 'SAFAVI' 'ROTANA'\n",
            " 'IRAQI' 'ROTANA' 'ROTANA' 'DOKOL' 'SAFAVI' 'DOKOL' 'ROTANA' 'ROTANA'\n",
            " 'ROTANA' 'DEGLET' 'DEGLET' 'SAFAVI' 'SAFAVI' 'ROTANA' 'ROTANA' 'DOKOL'\n",
            " 'SAFAVI' 'DEGLET' 'SAFAVI' 'SAFAVI' 'SOGAY' 'DEGLET' 'ROTANA' 'ROTANA'\n",
            " 'DOKOL' 'DEGLET' 'IRAQI' 'ROTANA' 'ROTANA' 'DOKOL' 'ROTANA' 'DOKOL'\n",
            " 'SAFAVI' 'BERHI' 'SAFAVI' 'SAFAVI' 'SAFAVI' 'DEGLET' 'SOGAY' 'SAFAVI'\n",
            " 'DOKOL' 'BERHI' 'BERHI' 'SAFAVI' 'DEGLET' 'ROTANA' 'SOGAY' 'DEGLET'\n",
            " 'ROTANA' 'SAFAVI' 'SOGAY' 'DEGLET' 'DOKOL' 'IRAQI' 'SAFAVI' 'DOKOL'\n",
            " 'SOGAY' 'SAFAVI' 'BERHI' 'BERHI' 'DOKOL' 'ROTANA' 'DOKOL' 'ROTANA'\n",
            " 'DEGLET' 'SOGAY' 'SAFAVI' 'SOGAY' 'SOGAY' 'SAFAVI' 'BERHI' 'DEGLET'\n",
            " 'BERHI' 'DOKOL']\n"
          ]
        }
      ]
    },
    {
      "cell_type": "code",
      "source": [
        "# Calculate accuracy score\n",
        "accuracy = accuracy_score(Y_test, Y_pred_index)\n",
        "accuracy\n"
      ],
      "metadata": {
        "colab": {
          "base_uri": "https://localhost:8080/"
        },
        "id": "edxQ4uKMRHrt",
        "outputId": "2970ccab-2f9c-4efa-ef09-e31e07570f76"
      },
      "execution_count": null,
      "outputs": [
        {
          "output_type": "execute_result",
          "data": {
            "text/plain": [
              "0.9277777777777778"
            ]
          },
          "metadata": {},
          "execution_count": 19
        }
      ]
    },
    {
      "cell_type": "markdown",
      "source": [
        "### The model's prediction accuracy stands at approximately 92%, which is a commendable achievement."
      ],
      "metadata": {
        "id": "wEFfebScSfZt"
      }
    },
    {
      "cell_type": "markdown",
      "source": [
        "\n",
        "\n",
        "\n",
        "\n",
        "\n",
        "\n",
        "\n",
        "# Plotting predictions for four samples"
      ],
      "metadata": {
        "id": "ovwOYnA_GrtZ"
      }
    },
    {
      "cell_type": "code",
      "source": [
        "# Plotting predictions for a few samples\n",
        "num_samples_to_plot = 4\n",
        "for i in range(num_samples_to_plot):\n",
        "    plt.figure(figsize=(6, 2))\n",
        "    plt.barh(range(len(Y_pred_probs[i])), Y_pred_probs[i], color='green')\n",
        "    plt.yticks(range(len(Y_pred_probs[i])), le.classes_)  # Use class names as y-axis labels\n",
        "    plt.xlabel('Probability')\n",
        "    plt.title(f'Predicted Probabilities for Sample {i+1} (Predicted Class: {Y_pred_names[i]}, True Class: {le.inverse_transform([Y_test[i]])[0]})')\n",
        "    plt.show()"
      ],
      "metadata": {
        "colab": {
          "base_uri": "https://localhost:8080/",
          "height": 973
        },
        "id": "K5nXrhGPEOqu",
        "outputId": "5180757d-dc3d-41a0-b996-c11459dc0030"
      },
      "execution_count": null,
      "outputs": [
        {
          "output_type": "display_data",
          "data": {
            "text/plain": [
              "<Figure size 600x200 with 1 Axes>"
            ],
            "image/png": "[encoded data removed]"
          },
          "metadata": {}
        },
        {
          "output_type": "display_data",
          "data": {
            "text/plain": [
              "<Figure size 600x200 with 1 Axes>"
            ],
            "image/png": "[encoded data removed]"
          },
          "metadata": {}
        },
        {
          "output_type": "display_data",
          "data": {
            "text/plain": [
              "<Figure size 600x200 with 1 Axes>"
            ],
            "image/png": "[encoded data removed]"
          },
          "metadata": {}
        },
        {
          "output_type": "display_data",
          "data": {
            "text/plain": [
              "<Figure size 600x200 with 1 Axes>"
            ],
            "image/png": "[encoded data removed]"
          },
          "metadata": {}
        }
      ]
    },
    {
      "cell_type": "markdown",
      "source": [
        "# **Date Fruits ANN Classification Summary**\n",
        "\n",
        "The observation that some date fruit types have prediction probabilities despite not being the true class suggests that additional features could improve classification accuracy. This insight extends beyond date fruits to encompass various other objects, including vegetables, fruits, and legumes. By incorporating more diverse and informative features into classification studies, it is anticipated that success rates can be enhanced across a wide range of classification tasks.\n",
        "\n",
        "This understanding underscores the importance of feature selection and engineering in machine learning applications. By leveraging a comprehensive set of features that capture the nuances and intricacies of the objects being classified, models can achieve greater discriminative power and accuracy. Furthermore, this approach fosters adaptability and generalization, enabling models to effectively classify diverse objects beyond the scope of the training data.\n",
        "\n",
        "In summary, the pursuit of improved classification performance entails not only refining existing features but also exploring new feature dimensions that encapsulate the inherent variability and complexity of the classification problem at hand. This holistic approach holds the potential to advance classification capabilities across various domains, contributing to more robust and reliable machine learning systems."
      ],
      "metadata": {
        "id": "9Kkzxw_HISxr"
      }
    },
    {
      "cell_type": "markdown",
      "source": [
        "\n",
        "\n",
        "\n",
        "\n",
        "```\n",
        "                                                                  Author:KANYI\n",
        "\n",
        "\n",
        "\n"
      ],
      "metadata": {
        "id": "fD7fi43IPq8T"
      }
    }
  ]
}